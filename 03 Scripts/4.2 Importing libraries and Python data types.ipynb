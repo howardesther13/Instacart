{
 "cells": [
  {
   "cell_type": "markdown",
   "id": "0b007b66",
   "metadata": {},
   "source": [
    "# 01. Importing Libraries"
   ]
  },
  {
   "cell_type": "code",
   "execution_count": 1,
   "id": "f449660a",
   "metadata": {},
   "outputs": [],
   "source": [
    "# Import libraries\n",
    "import pandas as pd\n",
    "import numpy as np\n",
    "import os"
   ]
  },
  {
   "cell_type": "markdown",
   "id": "834abd92",
   "metadata": {},
   "source": [
    "# 02. Data Types"
   ]
  },
  {
   "cell_type": "code",
   "execution_count": 3,
   "id": "1da87797",
   "metadata": {},
   "outputs": [
    {
     "name": "stdout",
     "output_type": "stream",
     "text": [
      "100\n",
      "100\n",
      "100\n"
     ]
    }
   ],
   "source": [
    "# Code 3 different ways of reaching a result of 100 by adding or \n",
    "# substracting numeric variables\n",
    "x = 50\n",
    "x2 = 10\n",
    "x3 = 90\n",
    "x4 = 110\n",
    "\n",
    "a = x + x\n",
    "b = x2 + x3\n",
    "c = x4 - x2\n",
    "\n",
    "print (a)\n",
    "print (b)\n",
    "print (c)"
   ]
  },
  {
   "cell_type": "code",
   "execution_count": 4,
   "id": "423b9ea2",
   "metadata": {},
   "outputs": [
    {
     "name": "stdout",
     "output_type": "stream",
     "text": [
      "4.407643312101911\n"
     ]
    }
   ],
   "source": [
    "# Code 2 floating-point variables and divide them by each other\n",
    "y = 3.14\n",
    "y2 = 13.84\n",
    "\n",
    "d = y2 / y\n",
    "\n",
    "print (d)"
   ]
  },
  {
   "cell_type": "code",
   "execution_count": 5,
   "id": "d94642ac",
   "metadata": {},
   "outputs": [
    {
     "name": "stdout",
     "output_type": "stream",
     "text": [
      "Esther\n"
     ]
    }
   ],
   "source": [
    "# Construct a short word made of separate strings\n",
    "w = 'Est'\n",
    "w2 = 'her'\n",
    "\n",
    "word = w + w2\n",
    "\n",
    "print(word)"
   ]
  },
  {
   "cell_type": "code",
   "execution_count": 7,
   "id": "bca56fc3",
   "metadata": {},
   "outputs": [
    {
     "name": "stdout",
     "output_type": "stream",
     "text": [
      "Hello World!\n"
     ]
    }
   ],
   "source": [
    "# Construct 2 short sentences made of separate strings\n",
    "s = 'Hello'\n",
    "s2 = ' World!'\n",
    "\n",
    "st = s + s2\n",
    "\n",
    "print(st)"
   ]
  }
 ],
 "metadata": {
  "kernelspec": {
   "display_name": "Python 3 (ipykernel)",
   "language": "python",
   "name": "python3"
  },
  "language_info": {
   "codemirror_mode": {
    "name": "ipython",
    "version": 3
   },
   "file_extension": ".py",
   "mimetype": "text/x-python",
   "name": "python",
   "nbconvert_exporter": "python",
   "pygments_lexer": "ipython3",
   "version": "3.11.5"
  }
 },
 "nbformat": 4,
 "nbformat_minor": 5
}
